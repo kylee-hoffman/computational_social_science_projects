{
  "nbformat": 4,
  "nbformat_minor": 0,
  "metadata": {
    "colab": {
      "provenance": [],
      "gpuType": "T4",
      "authorship_tag": "ABX9TyM00rPFyjmOBQzeaan/oXhP",
      "include_colab_link": true
    },
    "kernelspec": {
      "name": "python3",
      "display_name": "Python 3"
    },
    "language_info": {
      "name": "python"
    },
    "accelerator": "GPU"
  },
  "cells": [
    {
      "cell_type": "markdown",
      "metadata": {
        "id": "view-in-github",
        "colab_type": "text"
      },
      "source": [
        "<a href=\"https://colab.research.google.com/github/kylee-hoffman/computational_social_science_projects/blob/main/project_5/CSS_project5_part9_LMM.ipynb\" target=\"_parent\"><img src=\"https://colab.research.google.com/assets/colab-badge.svg\" alt=\"Open In Colab\"/></a>"
      ]
    },
    {
      "cell_type": "code",
      "source": [
        "from transformers import pipeline, set_seed\n",
        "\n",
        "generator = pipeline('text-generation', model='gpt2')"
      ],
      "metadata": {
        "colab": {
          "base_uri": "https://localhost:8080/"
        },
        "id": "jwx7nlDxK-tI",
        "outputId": "88fc8ba8-536a-4279-fba5-eef3c5e84374"
      },
      "execution_count": 1,
      "outputs": [
        {
          "output_type": "stream",
          "name": "stderr",
          "text": [
            "/usr/local/lib/python3.11/dist-packages/huggingface_hub/utils/_auth.py:94: UserWarning: \n",
            "The secret `HF_TOKEN` does not exist in your Colab secrets.\n",
            "To authenticate with the Hugging Face Hub, create a token in your settings tab (https://huggingface.co/settings/tokens), set it as secret in your Google Colab and restart your session.\n",
            "You will be able to reuse this secret in all of your notebooks.\n",
            "Please note that authentication is recommended but still optional to access public models or datasets.\n",
            "  warnings.warn(\n",
            "Device set to use cuda:0\n"
          ]
        }
      ]
    },
    {
      "cell_type": "code",
      "source": [
        "set_seed(100)\n",
        "input_text = \"This project uses NLP to classify political party and position in congress using a corpus of tweets from members of congress.\"\n",
        "\n",
        "output = generator(input_text, max_length=100, num_return_sequences=5, truncation=True)\n",
        "for result in output:\n",
        "    print(result['generated_text'])\n",
        "    print(\"----\")"
      ],
      "metadata": {
        "colab": {
          "base_uri": "https://localhost:8080/"
        },
        "id": "ztOjREhpK-5I",
        "outputId": "a9c26404-956c-4042-be60-6a6259cfdf5d"
      },
      "execution_count": 3,
      "outputs": [
        {
          "output_type": "stream",
          "name": "stderr",
          "text": [
            "Setting `pad_token_id` to `eos_token_id`:50256 for open-end generation.\n"
          ]
        },
        {
          "output_type": "stream",
          "name": "stdout",
          "text": [
            "This project uses NLP to classify political party and position in congress using a corpus of tweets from members of congress. We then examine the relationship between data quality and recall. We find that recall levels are higher in congress and smaller in general interest groups. We find less overlap between data on congress-related recall and recall from different people groups, suggesting that the data quality is the best indicator of recall quality. Finally, both groups report significant improvements in recall. We conclude that while not perfect, our findings\n",
            "----\n",
            "This project uses NLP to classify political party and position in congress using a corpus of tweets from members of congress. The data are published in a CSV sheet with additional information on Party affiliation from NLP. The datasets contained are from the NMP website, the MPN database and other political organizations.\n",
            "\n",
            "NLP is primarily designed to train politicians using a database that provides the following features:\n",
            "\n",
            "A complete list of political party affiliations with data from NMP. We use a large dataset\n",
            "----\n",
            "This project uses NLP to classify political party and position in congress using a corpus of tweets from members of congress. Using NLP to identify specific messages, tweets from the general public was developed to provide an objective way to detect political ideology, which can be applied to political news outlets such as The Wall Street Journal, the New York Times, NBC, and CNN. In particular, tweets tagged \"socialist\" and \"free market authoritarianism\" were compared to other tweets that could be classified as extreme\n",
            "----\n",
            "This project uses NLP to classify political party and position in congress using a corpus of tweets from members of congress.\n",
            "\n",
            "We present a unique dataset of political party and constituency positions that includes an index of tweets in congress: tweets that are aligned with positions.\n",
            "\n",
            "The first three columns are the most important tweets of congress users in Congress since at least 2005. In this dataset, the most popular political Party is represented by the most commonly used tweet, while at least five political Position and two position\n",
            "----\n",
            "This project uses NLP to classify political party and position in congress using a corpus of tweets from members of congress. We've created a visualization so you can see just how many members of congress you have as a senator from each party that each account contributes. The red lines have points in every country where representatives are included in the collection of data.\n",
            "\n",
            "Advertisement\n",
            "\n",
            "So it's very easy to imagine why this project has been a real boost to public thought and data aggregation across the internet. For\n",
            "----\n"
          ]
        }
      ]
    }
  ]
}
